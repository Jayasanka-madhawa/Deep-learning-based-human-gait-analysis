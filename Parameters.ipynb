{
 "cells": [
  {
   "cell_type": "code",
   "execution_count": 1,
   "id": "23b126a2",
   "metadata": {},
   "outputs": [],
   "source": [
    "#Import math Library\n",
    "import math"
   ]
  },
  {
   "cell_type": "markdown",
   "id": "e1b19f21",
   "metadata": {},
   "source": [
    "# hip angle"
   ]
  },
  {
   "cell_type": "markdown",
   "id": "5fba8ac9",
   "metadata": {},
   "source": [
    "arctan((z26-z24)/(y24-y26))"
   ]
  },
  {
   "cell_type": "code",
   "execution_count": 7,
   "id": "7fb00e20",
   "metadata": {},
   "outputs": [],
   "source": [
    "def hip_angle(z26,z24,y24,y26):\n",
    "    output=math.atan((z26-z24)/(y24-y26))\n",
    "    return output"
   ]
  },
  {
   "cell_type": "code",
   "execution_count": 10,
   "id": "def9e81c",
   "metadata": {},
   "outputs": [
    {
     "data": {
      "text/plain": [
       "45.0"
      ]
     },
     "execution_count": 10,
     "metadata": {},
     "output_type": "execute_result"
    }
   ],
   "source": [
    "math.degrees(hip_angle(2,1,4,3))"
   ]
  },
  {
   "cell_type": "markdown",
   "id": "dbc83dba",
   "metadata": {},
   "source": [
    "# knee angle"
   ]
  },
  {
   "cell_type": "markdown",
   "id": "64584199",
   "metadata": {},
   "source": [
    "a = sqrt((x24 -x28)2 + (y24-y28)2 + (z24-z28)2)<br>\n",
    "b = sqrt((x24 -x26)2 + (y24-y26)2 + (z24-z26)2)<br> \n",
    "c = sqrt((x26 -x28)2 + (y26-y28)2 + (z26-z28)2)<br>\n",
    "Angle = arccos((b2+ c2 - a2) / (2bc))"
   ]
  },
  {
   "cell_type": "code",
   "execution_count": 12,
   "id": "6ae9cdcd",
   "metadata": {},
   "outputs": [],
   "source": [
    "def knee_angle(x24,x26,x28,y24,y26,y28,z24,z26,z28):\n",
    "    a = math.sqrt((x24 -x28)**2 + (y24-y28)**2 + (z24-z28)**2)\n",
    "    b = math.sqrt((x24 -x26)**2 + (y24-y26)**2 + (z24-z26)**2)\n",
    "    c = math.sqrt((x26 -x28)**2 + (y26-y28)**2 + (z26-z28)**2)\n",
    "    output= math.acos((b**2+ c**2 - a**2) / (2*b*c))\n",
    "    return output"
   ]
  },
  {
   "cell_type": "markdown",
   "id": "e197c86a",
   "metadata": {},
   "source": [
    "# Ankle angle"
   ]
  },
  {
   "cell_type": "markdown",
   "id": "16a2ba76",
   "metadata": {},
   "source": [
    "a = sqrt((x26 -x32)2 + (y26-y32)2 + (z26-z32)2)<br>\n",
    "b = sqrt((x28 -x26)2 + (y28-y26)2 + (z28-z26)2)<br>\n",
    "c = sqrt((x32 -x28)2 + (y32-y28)2 + (z32-z28)2)<br>\n",
    "Angle = arccos((b2+ c2 - a2) / (2bc))"
   ]
  },
  {
   "cell_type": "code",
   "execution_count": 17,
   "id": "18b3badc",
   "metadata": {},
   "outputs": [],
   "source": [
    "def ankle_angle(x26,x28,x32,y26,y28,y32,z26,z28,z32):\n",
    "    a = math.sqrt((x26 -x32)**2 + (y26-y32)**2 + (z26-z32)**2)\n",
    "    b = math.sqrt((x28 -x26)**2 + (y28-y26)**2 + (z28-z26)**2)\n",
    "    c = math.sqrt((x32 -x28)**2 + (y32-y28)**2 + (z32-z28)**2)\n",
    "    output= math.acos((b**2+ c**2 - a**2) / (2*b*c))\n",
    "    return output"
   ]
  },
  {
   "cell_type": "markdown",
   "id": "46a1b473",
   "metadata": {},
   "source": [
    "# Angle between body and upper arm"
   ]
  },
  {
   "cell_type": "markdown",
   "id": "75891106",
   "metadata": {},
   "source": [
    "arctan((Z14-Z12)/(Y14-Y12))"
   ]
  },
  {
   "cell_type": "code",
   "execution_count": 14,
   "id": "c45654ba",
   "metadata": {},
   "outputs": [],
   "source": [
    "def hip_angle(z14,z12,y14,y12):\n",
    "    output=math.atan((z14-z12)/(y14-y12))\n",
    "    return output"
   ]
  },
  {
   "cell_type": "markdown",
   "id": "eb2707d0",
   "metadata": {},
   "source": [
    "# Angle between upper arm and lower arm"
   ]
  },
  {
   "cell_type": "markdown",
   "id": "98604176",
   "metadata": {},
   "source": [
    "a = sqrt((x12 -x16)2 + (y12-y16)2 + (z12-z16)2)<br>\n",
    "b = sqrt((x12 -x14)2 + (y12-y14)2 + (z12-z14)2)<br>\n",
    "c = sqrt((x14 -x16)2 + (y14-y16)2 + (z14-z16)2)<br>\n",
    "Angle = arccos((b2+ c2 - a2) / (2bc))"
   ]
  },
  {
   "cell_type": "code",
   "execution_count": 18,
   "id": "fabfc103",
   "metadata": {},
   "outputs": [],
   "source": [
    "def arm_angle(x12,x14,x16,y12,y14,y16,z12,z14,z16):\n",
    "    a = math.sqrt((x12 -x14)**2 + (y12-y16)**2 + (z12-z16)**2)\n",
    "    b = math.sqrt((x12 -x14)**2 + (y12-y14)**2 + (z12-z14)**2)\n",
    "    c = math.sqrt((x14 -x16)**2 + (y14-y16)**2 + (z14-z16)**2)\n",
    "    output= math.acos((b**2+ c**2 - a**2) / (2*b*c))\n",
    "    return output"
   ]
  },
  {
   "cell_type": "markdown",
   "id": "d043e569",
   "metadata": {},
   "source": [
    "# Thigh angle"
   ]
  },
  {
   "cell_type": "markdown",
   "id": "1dbeba8d",
   "metadata": {},
   "source": [
    "absolute(arctan((z26-z24)/(y24-y26))) + absolute(arctan((z26-z24)/(y26-y27)))"
   ]
  },
  {
   "cell_type": "code",
   "execution_count": 20,
   "id": "33dbeb62",
   "metadata": {},
   "outputs": [],
   "source": [
    "def thigh_angle(z24,z26,z27,y24,y26,y27):\n",
    "    a=abs(math.atan((z26-z24)/(y24-y26)))\n",
    "    b=abs(math.atan((z26-z24)/(y26-y27)))\n",
    "    return a+b\n",
    "    "
   ]
  },
  {
   "cell_type": "markdown",
   "id": "bbd62c67",
   "metadata": {},
   "source": [
    "# Pelvic obliquity"
   ]
  },
  {
   "cell_type": "markdown",
   "id": "d2c46660",
   "metadata": {},
   "source": [
    "arctan((y23-y24)/(x23-x24))"
   ]
  },
  {
   "cell_type": "code",
   "execution_count": 21,
   "id": "5a4083a4",
   "metadata": {},
   "outputs": [],
   "source": [
    "def pelvic_obliquity(x23,x24,y23,y24):\n",
    "    output=math.atan((y23-y24)/(x23-x24))\n",
    "    return output"
   ]
  },
  {
   "cell_type": "markdown",
   "id": "0ee85d70",
   "metadata": {},
   "source": [
    "# Step width"
   ]
  },
  {
   "cell_type": "markdown",
   "id": "320bf7ab",
   "metadata": {},
   "source": [
    "absolute(x30 - x29)"
   ]
  },
  {
   "cell_type": "code",
   "execution_count": 22,
   "id": "a0bb2b56",
   "metadata": {},
   "outputs": [],
   "source": [
    "def step_width(x29,x30):\n",
    "    output=abs(x30 - x29)\n",
    "    return output\n",
    "               "
   ]
  },
  {
   "cell_type": "markdown",
   "id": "a88899e7",
   "metadata": {},
   "source": [
    "# Foot lifting distance"
   ]
  },
  {
   "cell_type": "markdown",
   "id": "927a5631",
   "metadata": {},
   "source": [
    "(y30-y29)"
   ]
  },
  {
   "cell_type": "code",
   "execution_count": 23,
   "id": "c25c1f16",
   "metadata": {},
   "outputs": [],
   "source": [
    "def step_width(y29,y30):\n",
    "    output=(y30 - y29)\n",
    "    return output"
   ]
  },
  {
   "cell_type": "markdown",
   "id": "46faefd0",
   "metadata": {},
   "source": [
    "# Length of lower body"
   ]
  },
  {
   "cell_type": "markdown",
   "id": "380daf6a",
   "metadata": {},
   "source": [
    "sqrt((x24 -x26)2 + (y24-y26)2 + (z24-z26)2)<br> + sqrt((x26 -x28)2 + (y26-y28)2 + (z26-z28)2) <br>+ sqrt((x28 -x30)2 + (y28-y30)2 + (z28-z30)2)"
   ]
  },
  {
   "cell_type": "code",
   "execution_count": 24,
   "id": "50872ca2",
   "metadata": {},
   "outputs": [],
   "source": [
    "def lower_body_length(x24,x26,x28,y24,y26,y28,z24,z26,z28):\n",
    "    a = math.sqrt((x24 -x26)**2 + (y24-y26)**2 + (z26-z28)**2)\n",
    "    b = math.sqrt((x26 -x28)**2 + (y26-y28)**2 + (z26-z28)**2)\n",
    "    c = math.sqrt((x28 -x30)**2 + (y28-y30)**2 + (z28-z30)**2)\n",
    "    return a+b+c"
   ]
  },
  {
   "cell_type": "markdown",
   "id": "57a72f5b",
   "metadata": {},
   "source": [
    "# Shoulder length"
   ]
  },
  {
   "cell_type": "markdown",
   "id": "5b5e1c85",
   "metadata": {},
   "source": [
    "sqrt((x11 -x12)2 + (y11-y12)2 + (z11-z12)2)"
   ]
  },
  {
   "cell_type": "code",
   "execution_count": 26,
   "id": "5fd9d712",
   "metadata": {},
   "outputs": [],
   "source": [
    "def soulder_length(x11,x12,y11,y12,z11,z12):\n",
    "    output = math.sqrt((x11 -x12)**2 + (y11-y12)**2 + (z11-z12)**2)\n",
    "    return output"
   ]
  },
  {
   "cell_type": "markdown",
   "id": "fe8db52e",
   "metadata": {},
   "source": [
    "# Hip size"
   ]
  },
  {
   "cell_type": "markdown",
   "id": "f2bf3fc5",
   "metadata": {},
   "source": [
    "sqrt((x24 -x23)2 + (y24-y23)2 + (z24-z23)2)"
   ]
  },
  {
   "cell_type": "code",
   "execution_count": 29,
   "id": "e89f4af6",
   "metadata": {},
   "outputs": [],
   "source": [
    "def hip_size(x24,x23,y24,y23,z23,z24):\n",
    "    output = math.sqrt((x24 -x23)**2 + (y24 -y23)**2 + (z24 -z23)**2)\n",
    "    return output"
   ]
  },
  {
   "cell_type": "markdown",
   "id": "f0979799",
   "metadata": {},
   "source": [
    "# Length of upper arm"
   ]
  },
  {
   "cell_type": "markdown",
   "id": "053a2012",
   "metadata": {},
   "source": [
    "sqrt((x11 -x14)2 + (y11-y14)2 + (z11-z14)2)"
   ]
  },
  {
   "cell_type": "code",
   "execution_count": 30,
   "id": "66569120",
   "metadata": {},
   "outputs": [],
   "source": [
    "def upper_arm_length(x11,x14,y11,y14,z11,z14):\n",
    "    output = math.sqrt((x11 -x14)**2 + (y11 -y14)**2 + (z11 -z14)**2)\n",
    "    return output"
   ]
  },
  {
   "cell_type": "markdown",
   "id": "80ce53f4",
   "metadata": {},
   "source": [
    "# Length of lower arm"
   ]
  },
  {
   "cell_type": "markdown",
   "id": "58f46684",
   "metadata": {},
   "source": [
    "sqrt((x14 -x16)2 + (y14-y16)2 + (z14-z16)2)"
   ]
  },
  {
   "cell_type": "code",
   "execution_count": 31,
   "id": "1ffc04fc",
   "metadata": {},
   "outputs": [],
   "source": [
    "def lower_arm_length(x14,x16,y14,y16,z14,z16):\n",
    "    output = math.sqrt((x14 -x16)**2 + (y14 -y16)**2 + (z14 -z16)**2)\n",
    "    return output"
   ]
  },
  {
   "cell_type": "markdown",
   "id": "6af7588d",
   "metadata": {},
   "source": [
    "# Length of arm"
   ]
  },
  {
   "cell_type": "markdown",
   "id": "7e56883f",
   "metadata": {},
   "source": [
    "sqrt((x11 -x14)2 + (y11-y14)2 + (z11-z14)2) <br> +\n",
    "sqrt((x14 -x16)2 + (y14-y16)2 + (z14-z16)2) <br> +\n",
    "sqrt((x20 -x16)2 + (y20-y16)2 + (z20-z16)2)"
   ]
  },
  {
   "cell_type": "code",
   "execution_count": 32,
   "id": "b4ad07d0",
   "metadata": {},
   "outputs": [],
   "source": [
    "def arm_length(x11,x14,x16,y11,y14,y16,z11,z14,z16):\n",
    "    a = math.sqrt((x11 -x14)**2 + (y11-y14)**2 + (z11-z14)**2)\n",
    "    b = math.sqrt((x14 -x16)**2 + (y14 -y16)**2 + (z14 -z16)**2)\n",
    "    c = math.sqrt((x20 -x16)**2 +  (y20-y16)**2 + (z20-z16)**2)\n",
    "    return a+b+c"
   ]
  },
  {
   "cell_type": "markdown",
   "id": "99cb0bc4",
   "metadata": {},
   "source": [
    "# Length of thigh"
   ]
  },
  {
   "cell_type": "markdown",
   "id": "e61dea64",
   "metadata": {},
   "source": [
    "sqrt((x24 -x26)2 + (y24-y26)2 + (z24-z26)2)"
   ]
  },
  {
   "cell_type": "code",
   "execution_count": 33,
   "id": "3f00b1e7",
   "metadata": {},
   "outputs": [],
   "source": [
    "def thigh_length(x24,x26,y24,y26,z24,z26):\n",
    "    output = math.sqrt((x24 -x26)**2 + (y24 -y26)**2 + (z24 -z26)**2)\n",
    "    return output"
   ]
  },
  {
   "cell_type": "markdown",
   "id": "9ff8125a",
   "metadata": {},
   "source": [
    "# Length of shank"
   ]
  },
  {
   "cell_type": "markdown",
   "id": "592ae411",
   "metadata": {},
   "source": [
    "sqrt((x26 -x28)2 + (y26-y28)2 + (z26-z28)2)"
   ]
  },
  {
   "cell_type": "code",
   "execution_count": 34,
   "id": "f10ab1d5",
   "metadata": {},
   "outputs": [],
   "source": [
    "def shank_length(x26,x28,y26,y28,z26,z28):\n",
    "    output = math.sqrt((x26 -x28)**2 + (y26 -y28)**2 + (z26 -z28)**2)\n",
    "    return output"
   ]
  },
  {
   "cell_type": "markdown",
   "id": "4a8bb163",
   "metadata": {},
   "source": [
    "# Face width"
   ]
  },
  {
   "cell_type": "markdown",
   "id": "b28067df",
   "metadata": {},
   "source": [
    "sqrt((x8 -x7)2 + (y8-y7)2 + (z8-z7)2)"
   ]
  },
  {
   "cell_type": "code",
   "execution_count": 35,
   "id": "d1f7fc6e",
   "metadata": {},
   "outputs": [],
   "source": [
    "def face_width(x8,x7,y8,y7,z8,z7):\n",
    "    output = math.sqrt((x8 -x7)**2 + (y8 -y7)**2 + (z8 -z7)**2)\n",
    "    return output"
   ]
  },
  {
   "cell_type": "markdown",
   "id": "cea4c3ea",
   "metadata": {},
   "source": [
    "# Mouth width"
   ]
  },
  {
   "cell_type": "markdown",
   "id": "3afc4faa",
   "metadata": {},
   "source": [
    "sqrt((x10 -x9)2 + (y10-y9)2 + (z10-z9)2)"
   ]
  },
  {
   "cell_type": "code",
   "execution_count": 37,
   "id": "5d9bb5de",
   "metadata": {},
   "outputs": [],
   "source": [
    "def mouth_width(x10,x9,y10,y9,z10,z9):\n",
    "    output = math.sqrt((x10 -x9)**2 + (y10 -y9)**2 + (z10 -z9)**2)\n",
    "    return output"
   ]
  },
  {
   "cell_type": "markdown",
   "id": "5a66486c",
   "metadata": {},
   "source": [
    "# Eye size"
   ]
  },
  {
   "cell_type": "markdown",
   "id": "fcf6dece",
   "metadata": {},
   "source": [
    "sqrt((x6 -x4)2 + (y6-y4)2 + (z6+z4)2)"
   ]
  },
  {
   "cell_type": "code",
   "execution_count": 38,
   "id": "5bc94391",
   "metadata": {},
   "outputs": [],
   "source": [
    "def eye_width(x6,x4,y6,y4,z6,z4):\n",
    "    output = math.sqrt((x6 -x4)**2 + (y6 -y4)**2 + (z6 -z4)**2)\n",
    "    return output"
   ]
  },
  {
   "cell_type": "markdown",
   "id": "0ba2dc29",
   "metadata": {},
   "source": [
    "# Distance between eyes"
   ]
  },
  {
   "cell_type": "markdown",
   "id": "18de3bd4",
   "metadata": {},
   "source": [
    "sqrt((x5 -x2)2 + (y5-y2)2 + (z5+z2)2)"
   ]
  },
  {
   "cell_type": "code",
   "execution_count": 39,
   "id": "229cfc98",
   "metadata": {},
   "outputs": [],
   "source": [
    "def eye_distance(x5,x2,y5,y2,z5,z2):\n",
    "    output = math.sqrt((x5 -x2)**2 + (y5 -y2)**2 + (z5 -z2)**2)\n",
    "    return output"
   ]
  },
  {
   "cell_type": "markdown",
   "id": "3ee54d9c",
   "metadata": {},
   "source": [
    "# Foot length"
   ]
  },
  {
   "cell_type": "markdown",
   "id": "a9fb38a2",
   "metadata": {},
   "source": [
    "sqrt((x30 -x32)2 + (y30-y32)2 + (z30+z32)2)"
   ]
  },
  {
   "cell_type": "code",
   "execution_count": 40,
   "id": "554c481e",
   "metadata": {},
   "outputs": [],
   "source": [
    "def foot_legth(x30,x32,y30,y32,z30,z32):\n",
    "    output = math.sqrt((x30 -x32)**2 + (y30 -y32)**2 + (z30 -z32)**2)\n",
    "    return output"
   ]
  },
  {
   "cell_type": "code",
   "execution_count": null,
   "id": "6f781035",
   "metadata": {},
   "outputs": [],
   "source": []
  }
 ],
 "metadata": {
  "kernelspec": {
   "display_name": "Python 3",
   "language": "python",
   "name": "python3"
  },
  "language_info": {
   "codemirror_mode": {
    "name": "ipython",
    "version": 3
   },
   "file_extension": ".py",
   "mimetype": "text/x-python",
   "name": "python",
   "nbconvert_exporter": "python",
   "pygments_lexer": "ipython3",
   "version": "3.8.5"
  }
 },
 "nbformat": 4,
 "nbformat_minor": 5
}
